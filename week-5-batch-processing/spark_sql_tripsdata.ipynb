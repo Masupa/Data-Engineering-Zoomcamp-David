{
 "cells": [
  {
   "cell_type": "markdown",
   "id": "f45c3a92",
   "metadata": {},
   "source": [
    "**Import libraries**"
   ]
  },
  {
   "cell_type": "code",
   "execution_count": 49,
   "id": "fff8cc99",
   "metadata": {},
   "outputs": [],
   "source": [
    "import pyspark\n",
    "from pyspark.sql import SparkSession\n",
    "from pyspark.sql import functions as F"
   ]
  },
  {
   "cell_type": "code",
   "execution_count": 3,
   "id": "2d6730cd",
   "metadata": {},
   "outputs": [
    {
     "data": {
      "text/html": [
       "\n",
       "            <div>\n",
       "                <p><b>SparkSession - in-memory</b></p>\n",
       "                \n",
       "        <div>\n",
       "            <p><b>SparkContext</b></p>\n",
       "\n",
       "            <p><a href=\"http://davids-macbook-pro.local:4040\">Spark UI</a></p>\n",
       "\n",
       "            <dl>\n",
       "              <dt>Version</dt>\n",
       "                <dd><code>v3.2.4</code></dd>\n",
       "              <dt>Master</dt>\n",
       "                <dd><code>local[4]</code></dd>\n",
       "              <dt>AppName</dt>\n",
       "                <dd><code>SparkSQL</code></dd>\n",
       "            </dl>\n",
       "        </div>\n",
       "        \n",
       "            </div>\n",
       "        "
      ],
      "text/plain": [
       "<pyspark.sql.session.SparkSession at 0x7fe5f10543d0>"
      ]
     },
     "execution_count": 3,
     "metadata": {},
     "output_type": "execute_result"
    }
   ],
   "source": [
    "# Initialize a SparkSession\n",
    "spark = SparkSession.builder.master(\"local[4]\").appName('SparkSQL').getOrCreate()\n",
    "spark"
   ]
  },
  {
   "cell_type": "markdown",
   "id": "69702f80",
   "metadata": {},
   "source": [
    "**Import Data**"
   ]
  },
  {
   "cell_type": "markdown",
   "id": "91c26bed",
   "metadata": {},
   "source": [
    "`import green tripsdata`"
   ]
  },
  {
   "cell_type": "code",
   "execution_count": 27,
   "id": "94db6322",
   "metadata": {},
   "outputs": [],
   "source": [
    "df_green = spark.read.parquet(\"data/pq/green/*/*/\")"
   ]
  },
  {
   "cell_type": "code",
   "execution_count": 28,
   "id": "8bd97c6a",
   "metadata": {},
   "outputs": [],
   "source": [
    "df_green = df_green.withColumnRenamed('lpep_pickup_datetime', 'pickup_datetime')\n",
    "df_green = df_green.withColumnRenamed('lpep_dropoff_datetime', 'dropoff_datetime')"
   ]
  },
  {
   "cell_type": "code",
   "execution_count": 29,
   "id": "4f940721",
   "metadata": {},
   "outputs": [
    {
     "name": "stdout",
     "output_type": "stream",
     "text": [
      "root\n",
      " |-- VendorID: integer (nullable = true)\n",
      " |-- pickup_datetime: timestamp (nullable = true)\n",
      " |-- dropoff_datetime: timestamp (nullable = true)\n",
      " |-- store_and_fwd_flag: string (nullable = true)\n",
      " |-- RatecodeID: double (nullable = true)\n",
      " |-- PULocationID: integer (nullable = true)\n",
      " |-- DOLocationID: integer (nullable = true)\n",
      " |-- passenger_count: double (nullable = true)\n",
      " |-- trip_distance: double (nullable = true)\n",
      " |-- fare_amount: double (nullable = true)\n",
      " |-- extra: double (nullable = true)\n",
      " |-- mta_tax: double (nullable = true)\n",
      " |-- tip_amount: double (nullable = true)\n",
      " |-- tolls_amount: double (nullable = true)\n",
      " |-- ehail_fee: integer (nullable = true)\n",
      " |-- improvement_surcharge: double (nullable = true)\n",
      " |-- total_amount: double (nullable = true)\n",
      " |-- payment_type: double (nullable = true)\n",
      " |-- trip_type: double (nullable = true)\n",
      " |-- congestion_surcharge: double (nullable = true)\n",
      "\n"
     ]
    }
   ],
   "source": [
    "df_green.printSchema()"
   ]
  },
  {
   "cell_type": "markdown",
   "id": "b14805be",
   "metadata": {},
   "source": [
    "`import yellow tripsdata`"
   ]
  },
  {
   "cell_type": "code",
   "execution_count": 30,
   "id": "ed5ebe74",
   "metadata": {},
   "outputs": [],
   "source": [
    "df_yellow = spark.read.parquet(\"data/pq/yellow/*/*/\")"
   ]
  },
  {
   "cell_type": "code",
   "execution_count": 31,
   "id": "23327aa8",
   "metadata": {},
   "outputs": [],
   "source": [
    "# Rename columns\n",
    "df_yellow = df_yellow.withColumnRenamed('tpep_pickup_datetime', 'pickup_datetime')\n",
    "df_yellow = df_yellow.withColumnRenamed('tpep_dropoff_datetime', 'dropoff_datetime')"
   ]
  },
  {
   "cell_type": "code",
   "execution_count": 32,
   "id": "00af6374",
   "metadata": {},
   "outputs": [
    {
     "name": "stdout",
     "output_type": "stream",
     "text": [
      "root\n",
      " |-- VendorID: integer (nullable = true)\n",
      " |-- pickup_datetime: timestamp (nullable = true)\n",
      " |-- dropoff_datetime: timestamp (nullable = true)\n",
      " |-- passenger_count: double (nullable = true)\n",
      " |-- trip_distance: double (nullable = true)\n",
      " |-- RatecodeID: double (nullable = true)\n",
      " |-- store_and_fwd_flag: string (nullable = true)\n",
      " |-- PULocationID: integer (nullable = true)\n",
      " |-- DOLocationID: integer (nullable = true)\n",
      " |-- payment_type: long (nullable = true)\n",
      " |-- fare_amount: double (nullable = true)\n",
      " |-- extra: double (nullable = true)\n",
      " |-- mta_tax: double (nullable = true)\n",
      " |-- tip_amount: double (nullable = true)\n",
      " |-- tolls_amount: double (nullable = true)\n",
      " |-- improvement_surcharge: double (nullable = true)\n",
      " |-- total_amount: double (nullable = true)\n",
      " |-- congestion_surcharge: double (nullable = true)\n",
      " |-- airport_fee: integer (nullable = true)\n",
      "\n"
     ]
    }
   ],
   "source": [
    "df_yellow.printSchema()"
   ]
  },
  {
   "cell_type": "markdown",
   "id": "c24a4f3a",
   "metadata": {},
   "source": [
    "`Union green and yellow tripsdata`"
   ]
  },
  {
   "cell_type": "code",
   "execution_count": 47,
   "id": "00da29d8",
   "metadata": {},
   "outputs": [],
   "source": [
    "common_columns = []\n",
    "\n",
    "for col in df_green.columns:\n",
    "    if col in df_yellow.columns:\n",
    "        common_columns.append(col)"
   ]
  },
  {
   "cell_type": "code",
   "execution_count": 52,
   "id": "c5352330",
   "metadata": {},
   "outputs": [],
   "source": [
    "df_green = df_green.select(common_columns).withColumn('service_type', F.lit('green'))\n",
    "df_yellow = df_yellow.select(common_columns).withColumn('service_type', F.lit('yellow'))"
   ]
  },
  {
   "cell_type": "code",
   "execution_count": 59,
   "id": "6d740b55",
   "metadata": {},
   "outputs": [
    {
     "name": "stderr",
     "output_type": "stream",
     "text": [
      "                                                                                \r"
     ]
    },
    {
     "data": {
      "text/plain": [
       "99588780"
      ]
     },
     "execution_count": 59,
     "metadata": {},
     "output_type": "execute_result"
    }
   ],
   "source": [
    "trips_data = df_green.unionAll(df_yellow)\n",
    "trips_data.count()"
   ]
  },
  {
   "cell_type": "code",
   "execution_count": 60,
   "id": "75c27f7c",
   "metadata": {},
   "outputs": [
    {
     "name": "stderr",
     "output_type": "stream",
     "text": [
      "[Stage 54:===============================================>        (22 + 4) / 26]\r"
     ]
    },
    {
     "name": "stdout",
     "output_type": "stream",
     "text": [
      "+------------+--------+\n",
      "|service_type|   count|\n",
      "+------------+--------+\n",
      "|       green| 6291456|\n",
      "|      yellow|93297324|\n",
      "+------------+--------+\n",
      "\n"
     ]
    },
    {
     "name": "stderr",
     "output_type": "stream",
     "text": [
      "\r",
      "[Stage 54:=====================================================>  (25 + 1) / 26]\r",
      "\r",
      "                                                                                \r"
     ]
    }
   ],
   "source": [
    "trips_data.groupBy('service_type').count().show()"
   ]
  },
  {
   "cell_type": "markdown",
   "id": "41050dfd",
   "metadata": {},
   "source": []
  },
  {
   "cell_type": "markdown",
   "id": "5f67add7",
   "metadata": {},
   "source": [
    "**Querying Spark DataFrames with SQL**"
   ]
  },
  {
   "cell_type": "code",
   "execution_count": 62,
   "id": "6c9575d8",
   "metadata": {},
   "outputs": [],
   "source": [
    "# Register DF as temporary table\n",
    "trips_data.registerTempTable('trips_data')"
   ]
  },
  {
   "cell_type": "markdown",
   "id": "8cdecab8",
   "metadata": {},
   "source": [
    "`Select statement`"
   ]
  },
  {
   "cell_type": "code",
   "execution_count": 71,
   "id": "b3ec38d9",
   "metadata": {},
   "outputs": [
    {
     "name": "stdout",
     "output_type": "stream",
     "text": [
      "+--------+-------------------+-------------------+-------------+------------+\n",
      "|VendorID|    pickup_datetime|   dropoff_datetime|trip_distance|total_amount|\n",
      "+--------+-------------------+-------------------+-------------+------------+\n",
      "|       2|2020-01-22 21:34:16|2020-01-22 21:46:45|         4.22|       18.96|\n",
      "|       2|2020-01-30 08:48:21|2020-01-30 09:02:11|         1.55|        13.5|\n",
      "|       2|2020-01-08 20:36:00|2020-01-08 21:13:00|         9.88|       22.64|\n",
      "|       2|2020-01-31 11:22:00|2020-01-31 11:43:45|         7.04|       31.86|\n",
      "|       2|2020-01-27 16:56:00|2020-01-27 17:27:00|        10.53|       42.75|\n",
      "+--------+-------------------+-------------------+-------------+------------+\n",
      "only showing top 5 rows\n",
      "\n"
     ]
    }
   ],
   "source": [
    "results = spark.sql(\n",
    "\"\"\"\n",
    "    SELECT\n",
    "        VendorID,\n",
    "        pickup_datetime,\n",
    "        dropoff_datetime,\n",
    "        trip_distance,\n",
    "        total_amount\n",
    "        \n",
    "    FROM \n",
    "        trips_data\n",
    "\"\"\"\n",
    ")\n",
    "\n",
    "results.show(5)"
   ]
  },
  {
   "cell_type": "code",
   "execution_count": 79,
   "id": "1854ab8a",
   "metadata": {},
   "outputs": [],
   "source": [
    "df_revenue_report = spark.sql(\n",
    "\"\"\"\n",
    "    SELECT \n",
    "        -- Reveneue grouping\n",
    "        PULocationID as revenue_zone,\n",
    "        date_trunc('month', pickup_datetime) AS revenue_month, \n",
    "\n",
    "        service_type, \n",
    "\n",
    "        -- Revenue calculation \n",
    "        SUM(fare_amount) AS revenue_monthly_fare,\n",
    "        SUM(extra) AS revenue_monthly_extra,\n",
    "        SUM(mta_tax) AS revenue_monthly_mta_tax,\n",
    "        SUM(tip_amount) AS revenue_monthly_tip_amount,\n",
    "        SUM(tolls_amount) AS revenue_monthly_tolls_amount,\n",
    "        SUM(improvement_surcharge) AS revenue_monthly_improvement_surcharge,\n",
    "        SUM(total_amount) AS revenue_monthly_total_amount,\n",
    "        SUM(congestion_surcharge) AS revenue_monthly_congestion_surcharge,\n",
    "\n",
    "        -- Additional calculations\n",
    "        AVG(passenger_count) AS avg_montly_passenger_count,\n",
    "        AVG(trip_distance) AS avg_montly_trip_distance\n",
    "\n",
    "    FROM \n",
    "        trips_data\n",
    "    GROUP BY \n",
    "        revenue_zone, revenue_month, service_type\n",
    "\"\"\"\n",
    ")"
   ]
  },
  {
   "cell_type": "markdown",
   "id": "a7a2492c",
   "metadata": {},
   "source": [
    "`Export DataFrame to parquet`"
   ]
  },
  {
   "cell_type": "code",
   "execution_count": 80,
   "id": "0ff6a74f",
   "metadata": {},
   "outputs": [
    {
     "name": "stderr",
     "output_type": "stream",
     "text": [
      "                                                                                \r"
     ]
    }
   ],
   "source": [
    "df_revenue_report.write.parquet(\"data/report/revenue/\")"
   ]
  },
  {
   "cell_type": "code",
   "execution_count": null,
   "id": "95664bcf",
   "metadata": {},
   "outputs": [],
   "source": []
  }
 ],
 "metadata": {
  "kernelspec": {
   "display_name": "Python 3 (ipykernel)",
   "language": "python",
   "name": "python3"
  },
  "language_info": {
   "codemirror_mode": {
    "name": "ipython",
    "version": 3
   },
   "file_extension": ".py",
   "mimetype": "text/x-python",
   "name": "python",
   "nbconvert_exporter": "python",
   "pygments_lexer": "ipython3",
   "version": "3.9.0"
  }
 },
 "nbformat": 4,
 "nbformat_minor": 5
}
