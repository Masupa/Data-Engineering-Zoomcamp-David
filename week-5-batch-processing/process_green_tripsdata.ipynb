{
 "cells": [
  {
   "cell_type": "markdown",
   "id": "d02ee23a",
   "metadata": {},
   "source": [
    "**Import libraries**"
   ]
  },
  {
   "cell_type": "code",
   "execution_count": 15,
   "id": "5dce38ec",
   "metadata": {},
   "outputs": [],
   "source": [
    "import pyspark\n",
    "from pyspark.sql import types\n",
    "from pyspark.sql import SparkSession\n",
    "\n",
    "import pandas as pd"
   ]
  },
  {
   "cell_type": "code",
   "execution_count": 10,
   "id": "c7862c12",
   "metadata": {},
   "outputs": [
    {
     "data": {
      "text/html": [
       "\n",
       "            <div>\n",
       "                <p><b>SparkSession - in-memory</b></p>\n",
       "                \n",
       "        <div>\n",
       "            <p><b>SparkContext</b></p>\n",
       "\n",
       "            <p><a href=\"http://192.168.1.87:4040\">Spark UI</a></p>\n",
       "\n",
       "            <dl>\n",
       "              <dt>Version</dt>\n",
       "                <dd><code>v3.2.4</code></dd>\n",
       "              <dt>Master</dt>\n",
       "                <dd><code>local[5]</code></dd>\n",
       "              <dt>AppName</dt>\n",
       "                <dd><code>test</code></dd>\n",
       "            </dl>\n",
       "        </div>\n",
       "        \n",
       "            </div>\n",
       "        "
      ],
      "text/plain": [
       "<pyspark.sql.session.SparkSession at 0x7fd4c1b208b0>"
      ]
     },
     "execution_count": 10,
     "metadata": {},
     "output_type": "execute_result"
    }
   ],
   "source": [
    "# Initialize SparkSession\n",
    "spark = SparkSession.builder.master(\"local[5]\").appName(\"test\").getOrCreate()\n",
    "spark"
   ]
  },
  {
   "cell_type": "markdown",
   "id": "2f949569",
   "metadata": {},
   "source": [
    "**Import `green` trips data**"
   ]
  },
  {
   "cell_type": "markdown",
   "id": "d8e0caf6",
   "metadata": {},
   "source": [
    "    Let's start by working with taxi green data from year=2020 and month=\"January\""
   ]
  },
  {
   "cell_type": "code",
   "execution_count": 29,
   "id": "49ae6d25",
   "metadata": {},
   "outputs": [
    {
     "data": {
      "text/plain": [
       "DataFrame[VendorID: bigint, lpep_pickup_datetime: timestamp, lpep_dropoff_datetime: timestamp, store_and_fwd_flag: string, RatecodeID: double, PULocationID: bigint, DOLocationID: bigint, passenger_count: double, trip_distance: double, fare_amount: double, extra: double, mta_tax: double, tip_amount: double, tolls_amount: double, ehail_fee: int, improvement_surcharge: double, total_amount: double, payment_type: double, trip_type: double, congestion_surcharge: double]"
      ]
     },
     "execution_count": 29,
     "metadata": {},
     "output_type": "execute_result"
    }
   ],
   "source": [
    "df_pyspark = spark.read.parquet(f\"data/raw/green/year=2020/month=1/\")\n",
    "df_pyspark"
   ]
  },
  {
   "cell_type": "code",
   "execution_count": 26,
   "id": "616529e5",
   "metadata": {},
   "outputs": [
    {
     "name": "stdout",
     "output_type": "stream",
     "text": [
      "root\n",
      " |-- VendorID: integer (nullable = true)\n",
      " |-- lpep_pickup_datetime: timestamp (nullable = true)\n",
      " |-- lpep_dropoff_datetime: timestamp (nullable = true)\n",
      " |-- store_and_fwd_flag: string (nullable = true)\n",
      " |-- RatecodeID: double (nullable = true)\n",
      " |-- PULocationID: integer (nullable = true)\n",
      " |-- DOLocationID: integer (nullable = true)\n",
      " |-- passenger_count: double (nullable = true)\n",
      " |-- trip_distance: double (nullable = true)\n",
      " |-- fare_amount: double (nullable = true)\n",
      " |-- extra: double (nullable = true)\n",
      " |-- mta_tax: double (nullable = true)\n",
      " |-- tip_amount: double (nullable = true)\n",
      " |-- tolls_amount: double (nullable = true)\n",
      " |-- ehail_fee: integer (nullable = true)\n",
      " |-- improvement_surcharge: double (nullable = true)\n",
      " |-- total_amount: double (nullable = true)\n",
      " |-- payment_type: double (nullable = true)\n",
      " |-- trip_type: double (nullable = true)\n",
      " |-- congestion_surcharge: double (nullable = true)\n",
      "\n"
     ]
    }
   ],
   "source": [
    "df_pyspark.printSchema()"
   ]
  },
  {
   "cell_type": "markdown",
   "id": "8775fe07",
   "metadata": {},
   "source": [
    "**Data Processing**"
   ]
  },
  {
   "cell_type": "markdown",
   "id": "f7e99bbd",
   "metadata": {},
   "source": [
    "    Let's say the thing we want to handle is make sure our data types are correct. It could also be something\n",
    "    else we want to do on the data..."
   ]
  },
  {
   "cell_type": "code",
   "execution_count": 25,
   "id": "b0b9a269",
   "metadata": {},
   "outputs": [],
   "source": [
    "# Cast every column with type `long` to `Integer`\n",
    "df_pyspark = df_pyspark.withColumn(\"VendorID\", df_pyspark.VendorID.cast(types.IntegerType()))\n",
    "df_pyspark = df_pyspark.withColumn(\"PULocationID\", df_pyspark.VendorID.cast(types.IntegerType()))\n",
    "df_pyspark = df_pyspark.withColumn(\"DOLocationID\", df_pyspark.VendorID.cast(types.IntegerType()))"
   ]
  },
  {
   "cell_type": "markdown",
   "id": "c8c78bf1",
   "metadata": {},
   "source": []
  },
  {
   "cell_type": "markdown",
   "id": "31846acb",
   "metadata": {},
   "source": [
    "**Data Processing - Green trips entire data**"
   ]
  },
  {
   "cell_type": "code",
   "execution_count": 34,
   "id": "d47baa17",
   "metadata": {},
   "outputs": [
    {
     "name": "stderr",
     "output_type": "stream",
     "text": [
      "                                                                                \r"
     ]
    }
   ],
   "source": [
    "color = \"green\"\n",
    "years = [2020, 2021]\n",
    "months = range(1, 13)\n",
    "\n",
    "for year in years:\n",
    "    for month in months:\n",
    "        # Read trips data\n",
    "        df_pyspark = spark.read.parquet(f\"data/raw/{color}/year={year}/month=1/\")\n",
    "        \n",
    "        # Cast every column with type `long` to `Integer`\n",
    "        df_pyspark = df_pyspark.withColumn(\"VendorID\", df_pyspark.VendorID.cast(types.IntegerType()))\n",
    "        df_pyspark = df_pyspark.withColumn(\"PULocationID\", df_pyspark.VendorID.cast(types.IntegerType()))\n",
    "        df_pyspark = df_pyspark.withColumn(\"DOLocationID\", df_pyspark.VendorID.cast(types.IntegerType()))\n",
    "        \n",
    "        # Write trips data to local file\n",
    "        df_pyspark.repartition(numPartitions=4).write.parquet(f\"data/pq/{color}/year={year}/month={month:02d}/\")"
   ]
  },
  {
   "cell_type": "code",
   "execution_count": null,
   "id": "3239ea29",
   "metadata": {},
   "outputs": [],
   "source": []
  }
 ],
 "metadata": {
  "kernelspec": {
   "display_name": "Python 3 (ipykernel)",
   "language": "python",
   "name": "python3"
  },
  "language_info": {
   "codemirror_mode": {
    "name": "ipython",
    "version": 3
   },
   "file_extension": ".py",
   "mimetype": "text/x-python",
   "name": "python",
   "nbconvert_exporter": "python",
   "pygments_lexer": "ipython3",
   "version": "3.9.0"
  }
 },
 "nbformat": 4,
 "nbformat_minor": 5
}
