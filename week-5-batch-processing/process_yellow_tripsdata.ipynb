{
 "cells": [
  {
   "cell_type": "markdown",
   "id": "9e469a3b",
   "metadata": {},
   "source": [
    "**Import libraries**"
   ]
  },
  {
   "cell_type": "code",
   "execution_count": 1,
   "id": "49cb2df8",
   "metadata": {},
   "outputs": [],
   "source": [
    "import pyspark\n",
    "from pyspark.sql import types\n",
    "from pyspark.sql import SparkSession\n",
    "\n",
    "import pandas as pd"
   ]
  },
  {
   "cell_type": "code",
   "execution_count": 3,
   "id": "8e846a4c",
   "metadata": {},
   "outputs": [
    {
     "data": {
      "text/html": [
       "\n",
       "            <div>\n",
       "                <p><b>SparkSession - in-memory</b></p>\n",
       "                \n",
       "        <div>\n",
       "            <p><b>SparkContext</b></p>\n",
       "\n",
       "            <p><a href=\"http://davids-macbook-pro.local:4041\">Spark UI</a></p>\n",
       "\n",
       "            <dl>\n",
       "              <dt>Version</dt>\n",
       "                <dd><code>v3.2.4</code></dd>\n",
       "              <dt>Master</dt>\n",
       "                <dd><code>local[3]</code></dd>\n",
       "              <dt>AppName</dt>\n",
       "                <dd><code>test</code></dd>\n",
       "            </dl>\n",
       "        </div>\n",
       "        \n",
       "            </div>\n",
       "        "
      ],
      "text/plain": [
       "<pyspark.sql.session.SparkSession at 0x7fa908665af0>"
      ]
     },
     "execution_count": 3,
     "metadata": {},
     "output_type": "execute_result"
    }
   ],
   "source": [
    "# Initialize SparkSession\n",
    "spark = SparkSession.builder.master(\"local[3]\").appName(\"test\").getOrCreate()\n",
    "spark"
   ]
  },
  {
   "cell_type": "markdown",
   "id": "769747f1",
   "metadata": {},
   "source": [
    "**Import `green` trips data**"
   ]
  },
  {
   "cell_type": "markdown",
   "id": "fa5a54b9",
   "metadata": {},
   "source": [
    "    Let's start by working with taxi green data from year=2020 and month=\"January\""
   ]
  },
  {
   "cell_type": "code",
   "execution_count": 5,
   "id": "4537db6d",
   "metadata": {},
   "outputs": [
    {
     "data": {
      "text/plain": [
       "DataFrame[VendorID: bigint, tpep_pickup_datetime: timestamp, tpep_dropoff_datetime: timestamp, passenger_count: double, trip_distance: double, RatecodeID: double, store_and_fwd_flag: string, PULocationID: bigint, DOLocationID: bigint, payment_type: bigint, fare_amount: double, extra: double, mta_tax: double, tip_amount: double, tolls_amount: double, improvement_surcharge: double, total_amount: double, congestion_surcharge: double, airport_fee: int]"
      ]
     },
     "execution_count": 5,
     "metadata": {},
     "output_type": "execute_result"
    }
   ],
   "source": [
    "df_pyspark = spark.read.parquet(f\"data/raw/yellow/year=2020/month=1/\")\n",
    "df_pyspark"
   ]
  },
  {
   "cell_type": "code",
   "execution_count": 6,
   "id": "9bb21107",
   "metadata": {},
   "outputs": [
    {
     "name": "stdout",
     "output_type": "stream",
     "text": [
      "root\n",
      " |-- VendorID: long (nullable = true)\n",
      " |-- tpep_pickup_datetime: timestamp (nullable = true)\n",
      " |-- tpep_dropoff_datetime: timestamp (nullable = true)\n",
      " |-- passenger_count: double (nullable = true)\n",
      " |-- trip_distance: double (nullable = true)\n",
      " |-- RatecodeID: double (nullable = true)\n",
      " |-- store_and_fwd_flag: string (nullable = true)\n",
      " |-- PULocationID: long (nullable = true)\n",
      " |-- DOLocationID: long (nullable = true)\n",
      " |-- payment_type: long (nullable = true)\n",
      " |-- fare_amount: double (nullable = true)\n",
      " |-- extra: double (nullable = true)\n",
      " |-- mta_tax: double (nullable = true)\n",
      " |-- tip_amount: double (nullable = true)\n",
      " |-- tolls_amount: double (nullable = true)\n",
      " |-- improvement_surcharge: double (nullable = true)\n",
      " |-- total_amount: double (nullable = true)\n",
      " |-- congestion_surcharge: double (nullable = true)\n",
      " |-- airport_fee: integer (nullable = true)\n",
      "\n"
     ]
    }
   ],
   "source": [
    "df_pyspark.printSchema()"
   ]
  },
  {
   "cell_type": "markdown",
   "id": "6959db91",
   "metadata": {},
   "source": [
    "**Data Processing**"
   ]
  },
  {
   "cell_type": "markdown",
   "id": "0a452550",
   "metadata": {},
   "source": [
    "    Let's say the thing we want to handle is make sure our data types are correct. It could also be something\n",
    "    else we want to do on the data..."
   ]
  },
  {
   "cell_type": "code",
   "execution_count": 7,
   "id": "eeacf4ff",
   "metadata": {},
   "outputs": [],
   "source": [
    "# Cast every column with type `long` to `Integer`\n",
    "df_pyspark = df_pyspark.withColumn(\"VendorID\", df_pyspark.VendorID.cast(types.IntegerType()))\n",
    "df_pyspark = df_pyspark.withColumn(\"PULocationID\", df_pyspark.VendorID.cast(types.IntegerType()))\n",
    "df_pyspark = df_pyspark.withColumn(\"DOLocationID\", df_pyspark.VendorID.cast(types.IntegerType()))\n",
    "df_pyspark = df_pyspark.withColumn(\"payment_type\", df_pyspark.VendorID.cast(types.IntegerType()))"
   ]
  },
  {
   "cell_type": "markdown",
   "id": "f1e498c3",
   "metadata": {},
   "source": []
  },
  {
   "cell_type": "markdown",
   "id": "37adde8e",
   "metadata": {},
   "source": [
    "**Data Processing - Green trips entire data**"
   ]
  },
  {
   "cell_type": "code",
   "execution_count": 8,
   "id": "66584ce6",
   "metadata": {},
   "outputs": [
    {
     "name": "stderr",
     "output_type": "stream",
     "text": [
      "                                                                                \r"
     ]
    }
   ],
   "source": [
    "color = \"yellow\"\n",
    "years = [2020, 2021]\n",
    "months = range(1, 13)\n",
    "\n",
    "for year in years:\n",
    "    for month in months:\n",
    "        # Read trips data\n",
    "        df_pyspark = spark.read.parquet(f\"data/raw/{color}/year={year}/month=1/\")\n",
    "        \n",
    "        # Cast every column with type `long` to `Integer`\n",
    "        df_pyspark = df_pyspark.withColumn(\"VendorID\", df_pyspark.VendorID.cast(types.IntegerType()))\n",
    "        df_pyspark = df_pyspark.withColumn(\"PULocationID\", df_pyspark.VendorID.cast(types.IntegerType()))\n",
    "        df_pyspark = df_pyspark.withColumn(\"DOLocationID\", df_pyspark.VendorID.cast(types.IntegerType()))\n",
    "        \n",
    "        # Write trips data to local file\n",
    "        df_pyspark.repartition(numPartitions=4).write.parquet(f\"data/pq/{color}/year={year}/month={month:02d}/\")"
   ]
  },
  {
   "cell_type": "code",
   "execution_count": null,
   "id": "f32dc5d0",
   "metadata": {},
   "outputs": [],
   "source": []
  }
 ],
 "metadata": {
  "kernelspec": {
   "display_name": "Python 3 (ipykernel)",
   "language": "python",
   "name": "python3"
  },
  "language_info": {
   "codemirror_mode": {
    "name": "ipython",
    "version": 3
   },
   "file_extension": ".py",
   "mimetype": "text/x-python",
   "name": "python",
   "nbconvert_exporter": "python",
   "pygments_lexer": "ipython3",
   "version": "3.9.0"
  }
 },
 "nbformat": 4,
 "nbformat_minor": 5
}
